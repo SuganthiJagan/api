{
 "cells": [
  {
   "cell_type": "code",
   "execution_count": 2,
   "id": "377bc466",
   "metadata": {},
   "outputs": [
    {
     "name": "stdout",
     "output_type": "stream",
     "text": [
      "1235900.223943485\n"
     ]
    }
   ],
   "source": [
    "import numpy as np\n",
    "import trimesh\n",
    "mesh = trimesh.load(r'C:\\Users\\Suganthi\\Test_Results\\helical bevel gear.stl')\n",
    "print(mesh.volume)"
   ]
  },
  {
   "cell_type": "code",
   "execution_count": 3,
   "id": "32a2154f",
   "metadata": {},
   "outputs": [
    {
     "data": {
      "text/plain": [
       "150008.6412268623"
      ]
     },
     "execution_count": 3,
     "metadata": {},
     "output_type": "execute_result"
    }
   ],
   "source": [
    "mesh.area"
   ]
  },
  {
   "cell_type": "code",
   "execution_count": null,
   "id": "10d9739f",
   "metadata": {},
   "outputs": [],
   "source": [
    "import numpy as np\n",
    "import trimesh\n",
    "import pandas as pd\n",
    "import requests\n",
    "API_DOMAIN=\"http://ai-marketplace-3.uni-paderborn.de\"\n",
    "API_BASE_PATH=\"api/v1/collection/document/D000004@/files\"\n",
    "\n",
    "with requests.Session() as session:\n",
    "    # provide authentication data to session, will be sent automatically\n",
    "    session.auth = ('caddok', '')\n",
    "   \n",
    "\n",
    "    # Use the first request, which uses basic authentication, \n",
    "    # to set the language using the cookie\n",
    "    header_response = session.get(API_DOMAIN, \n",
    "                                  cookies={'contact.language': 'en'})\n",
    "    #If the connection request is successful, perform below operations\n",
    "    if header_response.status_code == 200:        \n",
    "        token_response = session.get(f\"{API_DOMAIN}/{API_BASE_PATH}\")\n",
    "        token = token_response.json()\n",
    "       # print(token)\n",
    "        for f in token['targets']:\n",
    "                 if f['cdbf_type'] == 'STL':\n",
    "                     stl_file=f[\"@id\"]\n",
    "        #print(stl_file)\n",
    "        data_response=session.get(stl_file)\n",
    "        if data_response.status_code == 200:\n",
    "            with open(r\"C:\\Users\\Suganthi\\Test_Results\\test.stl\", 'wb') as f:\n",
    "                f.write(data_response.content)\n",
    "        mesh = trimesh.load(r\"C:\\Users\\Suganthi\\Test_Results\\test.stl\")\n",
    "    data = ([{'volume': mesh.volume,\n",
    "    'area':mesh.area\n",
    "    }])\n",
    "df=pd.DataFrame(data)\n",
    "df"
   ]
  }
 ],
 "metadata": {
  "kernelspec": {
   "display_name": "Python 3 (ipykernel)",
   "language": "python",
   "name": "python3"
  },
  "language_info": {
   "codemirror_mode": {
    "name": "ipython",
    "version": 3
   },
   "file_extension": ".py",
   "mimetype": "text/x-python",
   "name": "python",
   "nbconvert_exporter": "python",
   "pygments_lexer": "ipython3",
   "version": "3.9.13"
  }
 },
 "nbformat": 4,
 "nbformat_minor": 5
}
